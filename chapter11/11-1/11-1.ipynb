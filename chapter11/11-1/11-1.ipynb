{
 "cells": [
  {
   "cell_type": "code",
   "execution_count": 2,
   "metadata": {},
   "outputs": [
    {
     "name": "stderr",
     "output_type": "stream",
     "text": [
      "Building prefix dict from the default dictionary ...\n",
      "Loading model from cache C:\\Users\\ADMINI~1\\AppData\\Local\\Temp\\jieba.cache\n",
      "Loading model cost 1.199 seconds.\n",
      "Prefix dict has been built succesfully.\n"
     ]
    },
    {
     "data": {
      "text/plain": [
       "['0                     北京 现代 途胜 召回 升级 ECU 后 耗油 增高 ',\n",
       " ' 1                   东风 雪铁龙 C4L 油箱 负压 导致 汽油 泵 损坏 ',\n",
       " ' 2                 东风 风神 A30 发动机 漏 防冻液 希望 尽快 处理 ',\n",
       " ' 3                       东风 日产 蓝鸟 变速箱 异响 希望 尽快 处理 ',\n",
       " ' 4                 野马 T70 发动机 容易 熄火 动力 不足 车身 异响 ',\n",
       " ' 5                         东风 日产 楼兰 日间 行 车灯 亮度 不 一致 ',\n",
       " ' 6               进口 捷豹 XF 加油 跳枪 严重   强烈要求 厂家 召回 ',\n",
       " ' 7           广汽传祺 GS5Super 变速箱 机电 控制 单元 漏油 ',\n",
       " ' 8                         北京 现代 途胜 发动机 噪音 大 油耗 偏高 ',\n",
       " ' 9                     江铃 E100 充电 故障 导致 无法 正常 启动 ',\n",
       " ' 10                   众泰 T700 大灯 进水 严重 影响 夜间 照明 ',\n",
       " ' 11                 北汽 绅宝 X55 变速箱 无法 换挡   无法 加速 ',\n",
       " ' 12                   上汽 大众 途观 EPC 和 排放系统 故障 灯亮 ',\n",
       " ' 13                     东风 本田 竞瑞 行驶 时 仪表盘 下方 有 异响 ',\n",
       " ' 14                 东风 雪铁龙 C4L 发动机 漏油 希望 尽快 处理 ',\n",
       " ' 15                     东风 风光 580 新车 左侧 车门 有 补过 漆 ',\n",
       " ' 16                   一汽大众 迈腾 发动机 故障 灯亮   动力 不足 ',\n",
       " ' 17               别克 昂科威 发动机 号 车架号 与 合格证 信息 不符 ',\n",
       " ' 18                       一汽大众 高尔夫 热车 变速箱 挂挡 不 走 ',\n",
       " ' 19                   广汽 本田 飞度 刹车踏板 踩 不 下去 刹车 失灵 ',\n",
       " ' 20                 北汽 幻速 S3 防盗 系统故障 发动机 无法 启动 ',\n",
       " ' 21                     长安 福特 蒙迪欧 节气门 残留 有 大量 机油 ',\n",
       " ' Name :   word _ seg ,   dtype :   object']"
      ]
     },
     "execution_count": 2,
     "metadata": {},
     "output_type": "execute_result"
    }
   ],
   "source": [
    "#首先将用到的包进行导入\n",
    "\n",
    "import pandas as pd\n",
    "import numpy as np\n",
    "from sklearn.feature_extraction.text import TfidfVectorizer, CountVectorizer\n",
    "from sklearn import model_selection \n",
    "from sklearn import preprocessing\n",
    "import nltk\n",
    "import jieba\n",
    "#将数据进行读取\n",
    "data=pd.read_csv('./test.csv',encoding='gbk')\n",
    "\n",
    "import jieba.analyse as analyse\n",
    "data1=data['word_seg']\n",
    "\n",
    "data2= jieba.lcut(str(data['word_seg']),cut_all=False,HMM=True)\n",
    "data2=' '.join(data2)\n",
    "#while \" \" in data2:\n",
    "    #data2.remove(\" \")\n",
    "data2=str(data2)\n",
    "data2 = data2.split('\\n')  # 字符串按空格分割成列表\n",
    "data2 "
   ]
  },
  {
   "cell_type": "code",
   "execution_count": 3,
   "metadata": {},
   "outputs": [
    {
     "data": {
      "text/plain": [
       "0     2\n",
       "1     2\n",
       "2     1\n",
       "3     2\n",
       "4     1\n",
       "5     2\n",
       "6     2\n",
       "7     2\n",
       "8     1\n",
       "9     2\n",
       "10    2\n",
       "11    2\n",
       "12    2\n",
       "13    2\n",
       "14    1\n",
       "15    2\n",
       "16    1\n",
       "17    1\n",
       "18    2\n",
       "19    1\n",
       "20    1\n",
       "21    2\n",
       "Name: class, dtype: int64"
      ]
     },
     "execution_count": 3,
     "metadata": {},
     "output_type": "execute_result"
    }
   ],
   "source": [
    "label=data['class']\n",
    "#label2=[]\n",
    "#label=pd.label\n",
    "label"
   ]
  },
  {
   "cell_type": "code",
   "execution_count": 4,
   "metadata": {},
   "outputs": [
    {
     "data": {
      "text/plain": [
       "19    1\n",
       "20    1\n",
       "21    2\n",
       "Name: class, dtype: int64"
      ]
     },
     "execution_count": 4,
     "metadata": {},
     "output_type": "execute_result"
    }
   ],
   "source": [
    "train_x,test_x,train_y,test_y=model_selection.train_test_split(data2[:-1],label,test_size=0.1,shuffle=False)\n",
    "#print(train_x.shape,test_x.shape)\n",
    "#train_x 训练集数据 test_x 测试集数据  train_y训练集的标签 test_y 测试集的标签r_y\n",
    "test_y"
   ]
  },
  {
   "cell_type": "code",
   "execution_count": 5,
   "metadata": {},
   "outputs": [
    {
     "name": "stdout",
     "output_type": "stream",
     "text": [
      "['0                     北京 现代 途胜 召回 升级 ECU 后 耗油 增高 ', ' 1                   东风 雪铁龙 C4L 油箱 负压 导致 汽油 泵 损坏 ', ' 2                 东风 风神 A30 发动机 漏 防冻液 希望 尽快 处理 ', ' 3                       东风 日产 蓝鸟 变速箱 异响 希望 尽快 处理 ', ' 4                 野马 T70 发动机 容易 熄火 动力 不足 车身 异响 ', ' 5                         东风 日产 楼兰 日间 行 车灯 亮度 不 一致 ', ' 6               进口 捷豹 XF 加油 跳枪 严重   强烈要求 厂家 召回 ', ' 7           广汽传祺 GS5Super 变速箱 机电 控制 单元 漏油 ', ' 8                         北京 现代 途胜 发动机 噪音 大 油耗 偏高 ', ' 9                     江铃 E100 充电 故障 导致 无法 正常 启动 ', ' 10                   众泰 T700 大灯 进水 严重 影响 夜间 照明 ', ' 11                 北汽 绅宝 X55 变速箱 无法 换挡   无法 加速 ', ' 12                   上汽 大众 途观 EPC 和 排放系统 故障 灯亮 ', ' 13                     东风 本田 竞瑞 行驶 时 仪表盘 下方 有 异响 ', ' 14                 东风 雪铁龙 C4L 发动机 漏油 希望 尽快 处理 ', ' 15                     东风 风光 580 新车 左侧 车门 有 补过 漆 ', ' 16                   一汽大众 迈腾 发动机 故障 灯亮   动力 不足 ', ' 17               别克 昂科威 发动机 号 车架号 与 合格证 信息 不符 ', ' 18                       一汽大众 高尔夫 热车 变速箱 挂挡 不 走 ', ' 19                   广汽 本田 飞度 刹车踏板 踩 不 下去 刹车 失灵 ']\n"
     ]
    }
   ],
   "source": [
    "all_data=list(train_x)+list(test_x)\n",
    "print(all_data[:20])"
   ]
  },
  {
   "cell_type": "code",
   "execution_count": 6,
   "metadata": {},
   "outputs": [],
   "source": [
    "from keras_preprocessing.text import Tokenizer\n",
    "from keras_preprocessing.sequence import pad_sequences"
   ]
  },
  {
   "cell_type": "code",
   "execution_count": 7,
   "metadata": {},
   "outputs": [
    {
     "name": "stdout",
     "output_type": "stream",
     "text": [
      "<class 'dict'>\n",
      "{'东风': 1, '发动机': 2, '变速箱': 3, '无法': 4, '希望': 5, '尽快': 6, '处理': 7, '异响': 8, '不': 9, '故障': 10, '有': 11, '北京': 12, '现代': 13, '途胜': 14, '召回': 15, '雪铁龙': 16, 'c4l': 17, '导致': 18, '日产': 19, '动力': 20, '不足': 21, '严重': 22, '漏油': 23, '启动': 24, '北汽': 25, '灯亮': 26, '本田': 27, '一汽大众': 28, '0': 29, '升级': 30, 'ecu': 31, '后': 32, '耗油': 33, '增高': 34, '1': 35, '油箱': 36, '负压': 37, '汽油': 38, '泵': 39, '损坏': 40, '2': 41, '风神': 42, 'a30': 43, '漏': 44, '防冻液': 45, '3': 46, '蓝鸟': 47, '4': 48, '野马': 49, 't70': 50, '容易': 51, '熄火': 52, '车身': 53, '5': 54, '楼兰': 55, '日间': 56, '行': 57, '车灯': 58, '亮度': 59, '一致': 60, '6': 61, '进口': 62, '捷豹': 63, 'xf': 64, '加油': 65, '跳枪': 66, '强烈要求': 67, '厂家': 68, '7': 69, '广汽传祺': 70, 'gs5super': 71, '机电': 72, '控制': 73, '单元': 74, '8': 75, '噪音': 76, '大': 77, '油耗': 78, '偏高': 79, '9': 80, '江铃': 81, 'e100': 82, '充电': 83, '正常': 84, '10': 85, '众泰': 86, 't700': 87, '大灯': 88, '进水': 89, '影响': 90, '夜间': 91, '照明': 92, '11': 93, '绅宝': 94, 'x55': 95, '换挡': 96, '加速': 97, '12': 98, '上汽': 99, '大众': 100, '途观': 101, 'epc': 102, '和': 103, '排放系统': 104, '13': 105, '竞瑞': 106, '行驶': 107, '时': 108, '仪表盘': 109, '下方': 110, '14': 111, '15': 112, '风光': 113, '580': 114, '新车': 115, '左侧': 116, '车门': 117, '补过': 118, '漆': 119, '16': 120, '迈腾': 121, '17': 122, '别克': 123, '昂科威': 124, '号': 125, '车架号': 126, '与': 127, '合格证': 128, '信息': 129, '不符': 130, '18': 131, '高尔夫': 132, '热车': 133, '挂挡': 134, '走': 135, '19': 136, '广汽': 137, '飞度': 138, '刹车踏板': 139, '踩': 140, '下去': 141, '刹车': 142, '失灵': 143, '20': 144, '幻速': 145, 's3': 146, '防盗': 147, '系统故障': 148, '21': 149, '长安': 150, '福特': 151, '蒙迪欧': 152, '节气门': 153, '残留': 154, '大量': 155, '机油': 156}\n"
     ]
    }
   ],
   "source": [
    "#引进Tokenizer方法\n",
    "tokenizer=Tokenizer()\n",
    "#使用tokenizer方法生成字典\n",
    "tokenizer.fit_on_texts(all_data)\n",
    "#生成word_index词典，并将词相对应的id进行输出\n",
    "word_index=tokenizer.word_index\n",
    "print(type(word_index))\n",
    "print(word_index)"
   ]
  },
  {
   "cell_type": "code",
   "execution_count": 8,
   "metadata": {},
   "outputs": [
    {
     "name": "stdout",
     "output_type": "stream",
     "text": [
      "[29, 12, 13, 14, 15, 30, 31, 32, 33, 34]\n",
      "[35, 1, 16, 17, 36, 37, 18, 38, 39, 40]\n",
      "[41, 1, 42, 43, 2, 44, 45, 5, 6, 7]\n",
      "[46, 1, 19, 47, 3, 8, 5, 6, 7]\n",
      "[48, 49, 50, 2, 51, 52, 20, 21, 53, 8]\n",
      "[54, 1, 19, 55, 56, 57, 58, 59, 9, 60]\n",
      "[61, 62, 63, 64, 65, 66, 22, 67, 68, 15]\n",
      "[69, 70, 71, 3, 72, 73, 74, 23]\n"
     ]
    }
   ],
   "source": [
    "#将句子使用id进行表示\n",
    "sequenses=tokenizer.texts_to_sequences(all_data)\n",
    "#查看用id表示的句子\n",
    "for sequense in sequenses[:8]:\n",
    "    print(sequense)\n",
    "#在all_data中找出拥有最多单词的句子，以此句子的长度为最大长度，将用id表示的句子长度进行统一\n",
    "max([len(s.split()) for s in all_data])\n",
    "sequences=pad_sequences(sequenses,maxlen=max([len(s.split()) for s in all_data]))"
   ]
  },
  {
   "cell_type": "code",
   "execution_count": 9,
   "metadata": {},
   "outputs": [
    {
     "name": "stdout",
     "output_type": "stream",
     "text": [
      "[29 12 13 14 15 30 31 32 33 34]\n",
      "[35  1 16 17 36 37 18 38 39 40]\n",
      "[41  1 42 43  2 44 45  5  6  7]\n",
      "[ 0 46  1 19 47  3  8  5  6  7]\n",
      "[48 49 50  2 51 52 20 21 53  8]\n",
      "[54  1 19 55 56 57 58 59  9 60]\n"
     ]
    }
   ],
   "source": [
    "#查看长度统一之后的句子\n",
    "for sequence in sequences[:6]:\n",
    "    print(sequence)"
   ]
  },
  {
   "cell_type": "code",
   "execution_count": 10,
   "metadata": {},
   "outputs": [
    {
     "name": "stdout",
     "output_type": "stream",
     "text": [
      "(19, 10) (3, 10)\n",
      "<class 'numpy.ndarray'>\n"
     ]
    }
   ],
   "source": [
    "#将训练集和测试集进行长度的统一\n",
    "max_length=max([len(s.split()) for s in all_data])\n",
    "train_x_seq=pad_sequences(tokenizer.texts_to_sequences(train_x),maxlen=max([len(s.split()) for s in all_data]))\n",
    "test_x_seq = pad_sequences(tokenizer.texts_to_sequences(test_x), maxlen = max_length)\n",
    "#查看训练集和测试集的shape\n",
    "print(train_x_seq.shape,test_x_seq.shape)\n",
    "print(type(train_x_seq))"
   ]
  },
  {
   "cell_type": "code",
   "execution_count": 11,
   "metadata": {},
   "outputs": [
    {
     "name": "stdout",
     "output_type": "stream",
     "text": [
      "[['0', '北京', '现代', '途胜', '召回', '升级', 'ECU', '后', '耗油', '增高'], ['1', '东风', '雪铁龙', 'C4L', '油箱', '负压', '导致', '汽油', '泵', '损坏'], ['2', '东风', '风神', 'A30', '发动机', '漏', '防冻液', '希望', '尽快', '处理'], ['3', '东风', '日产', '蓝鸟', '变速箱', '异响', '希望', '尽快', '处理'], ['4', '野马', 'T70', '发动机', '容易', '熄火', '动力', '不足', '车身', '异响'], ['5', '东风', '日产', '楼兰', '日间', '行', '车灯', '亮度', '不', '一致'], ['6', '进口', '捷豹', 'XF', '加油', '跳枪', '严重', '强烈要求', '厂家', '召回'], ['7', '广汽传祺', 'GS5Super', '变速箱', '机电', '控制', '单元', '漏油'], ['8', '北京', '现代', '途胜', '发动机', '噪音', '大', '油耗', '偏高'], ['9', '江铃', 'E100', '充电', '故障', '导致', '无法', '正常', '启动'], ['10', '众泰', 'T700', '大灯', '进水', '严重', '影响', '夜间', '照明'], ['11', '北汽', '绅宝', 'X55', '变速箱', '无法', '换挡', '无法', '加速'], ['12', '上汽', '大众', '途观', 'EPC', '和', '排放系统', '故障', '灯亮'], ['13', '东风', '本田', '竞瑞', '行驶', '时', '仪表盘', '下方', '有', '异响'], ['14', '东风', '雪铁龙', 'C4L', '发动机', '漏油', '希望', '尽快', '处理'], ['15', '东风', '风光', '580', '新车', '左侧', '车门', '有', '补过', '漆'], ['16', '一汽大众', '迈腾', '发动机', '故障', '灯亮', '动力', '不足'], ['17', '别克', '昂科威', '发动机', '号', '车架号', '与', '合格证', '信息', '不符'], ['18', '一汽大众', '高尔夫', '热车', '变速箱', '挂挡', '不', '走'], ['19', '广汽', '本田', '飞度', '刹车踏板', '踩', '不', '下去', '刹车', '失灵'], ['20', '北汽', '幻速', 'S3', '防盗', '系统故障', '发动机', '无法', '启动'], ['21', '长安', '福特', '蒙迪欧', '节气门', '残留', '有', '大量', '机油']]\n"
     ]
    }
   ],
   "source": [
    "#开始训练自己的词向量\n",
    "#首先将all_dat中的每一条评论转换为列表\n",
    "word_list=[str(s).split() for s in all_data]\n",
    "print(word_list)"
   ]
  },
  {
   "cell_type": "code",
   "execution_count": 12,
   "metadata": {},
   "outputs": [
    {
     "name": "stdout",
     "output_type": "stream",
     "text": [
      "Word2Vec(vocab=2, size=100, alpha=0.025)\n"
     ]
    }
   ],
   "source": [
    "#开始进行训练\n",
    "from gensim.models import word2vec\n",
    "w2v=word2vec.Word2Vec(word_list,window=5,iter=5)\n",
    "print(w2v)"
   ]
  },
  {
   "cell_type": "code",
   "execution_count": 22,
   "metadata": {},
   "outputs": [
    {
     "data": {
      "text/plain": [
       "[('东风', 0.005951316095888615)]"
      ]
     },
     "execution_count": 22,
     "metadata": {},
     "output_type": "execute_result"
    }
   ],
   "source": [
    "#查看与\"发动机\"相近的词\n",
    "w2v.wv.most_similar([\"发动机\"],topn=10)\n"
   ]
  },
  {
   "cell_type": "code",
   "execution_count": 19,
   "metadata": {},
   "outputs": [
    {
     "name": "stdout",
     "output_type": "stream",
     "text": [
      "[ 0.00370787  0.00070042 -0.00435499 -0.00240358  0.00099569  0.00190193\n",
      "  0.00179552 -0.00154262  0.00222803  0.00014667  0.00411571  0.00045073\n",
      "  0.00113123  0.00396353  0.00134561  0.00085046 -0.00365662 -0.00333827\n",
      " -0.00269813 -0.00481318  0.00371764  0.00134431  0.00153298 -0.00199527\n",
      " -0.00488286  0.00088266  0.00028785  0.00364308  0.00493666  0.00437976\n",
      " -0.0016032   0.00114038  0.00297366  0.00386764 -0.00143521  0.00384727\n",
      "  0.00375705  0.00097803  0.00156401 -0.00374448 -0.00089277  0.00171546\n",
      "  0.00065265  0.00017182  0.00287185 -0.00291767  0.0028359  -0.00262619\n",
      " -0.00416115  0.00175564 -0.00227908 -0.00245885 -0.00080011 -0.0037691\n",
      "  0.00033579  0.00019502  0.00360602 -0.00459461  0.00240252  0.00379049\n",
      "  0.00412287  0.00063235 -0.00453337 -0.00157158  0.00363219  0.00493771\n",
      "  0.00449746 -0.00373217 -0.00269836 -0.00249721  0.00450695 -0.00259479\n",
      " -0.00303683 -0.00484876 -0.00347273 -0.00232529 -0.00343054 -0.00125167\n",
      "  0.00280929 -0.00420704  0.00146345  0.00123958  0.00227575  0.00439596\n",
      " -0.00081605  0.0007752  -0.00315877  0.00123318  0.00426057 -0.00111116\n",
      "  0.002347    0.00417371  0.0040975  -0.00253692 -0.00270447 -0.00395887\n",
      " -0.00160777 -0.00147885  0.00207059  0.00470809]\n"
     ]
    },
    {
     "name": "stderr",
     "output_type": "stream",
     "text": [
      "C:\\Users\\Administrator\\Anaconda3\\lib\\site-packages\\ipykernel_launcher.py:2: DeprecationWarning: Call to deprecated `__getitem__` (Method will be removed in 4.0.0, use self.wv.__getitem__() instead).\n",
      "  \n"
     ]
    }
   ],
   "source": [
    "#查看“发动机”的词向量\n",
    "print(w2v['发动机'])"
   ]
  },
  {
   "cell_type": "code",
   "execution_count": null,
   "metadata": {},
   "outputs": [],
   "source": []
  }
 ],
 "metadata": {
  "kernelspec": {
   "display_name": "Python 3",
   "language": "python",
   "name": "python3"
  },
  "language_info": {
   "codemirror_mode": {
    "name": "ipython",
    "version": 3
   },
   "file_extension": ".py",
   "mimetype": "text/x-python",
   "name": "python",
   "nbconvert_exporter": "python",
   "pygments_lexer": "ipython3",
   "version": "3.7.3"
  }
 },
 "nbformat": 4,
 "nbformat_minor": 2
}
